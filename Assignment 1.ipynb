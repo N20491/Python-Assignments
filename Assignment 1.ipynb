{
 "cells": [
  {
   "cell_type": "markdown",
   "id": "83ec897e",
   "metadata": {},
   "source": [
    "# Assignment No.1"
   ]
  },
  {
   "cell_type": "markdown",
   "id": "216aeced",
   "metadata": {},
   "source": [
    "Que1. In the below elements which of them are values or an expression? eg:- values can be integer or string and expressions will be mathematical operators.\n",
    "* ,            'hello',         -87.8,          - ,             /,              +,            6\n",
    "\n",
    "Ans:-    *  :-  Mathematical operation (Multiplication)\n",
    "\n",
    "        ‘hello’:-   String\n",
    "\n",
    "        -87.8:-   Float\n",
    "\n",
    "        -   :- Mathematical operation (Subtraction)\n",
    "\n",
    "        /  :- Mathematical operation (Division)\n",
    "\n",
    "        +  :-  Mathematical operation(Addition)\n",
    "\n",
    "        6  :- Integer\n"
   ]
  },
  {
   "cell_type": "markdown",
   "id": "2c9d0507",
   "metadata": {},
   "source": [
    "Que2. What is the difference between string and variable?\n",
    "\n",
    "Ans:-  Variables:- Variables are symbols that you can use to store data in program. You    can think of them as an empty box that you fill with some data or value.\n",
    "\n",
    "Strings:- Strings are data, so we can use them to fill up a variable.  \n"
   ]
  },
  {
   "cell_type": "markdown",
   "id": "3872cd25",
   "metadata": {},
   "source": [
    "\n",
    "Que 3. Describe three different data types.\n",
    "\n",
    "Ans :- Integers, floating-point numbers, and strings.\n"
   ]
  },
  {
   "cell_type": "markdown",
   "id": "5748520b",
   "metadata": {},
   "source": [
    "Que 4. What is an expression made up of? What do all expressions do?\n",
    "\n",
    "Ans :- An expression is a combination of values and operators. All expressions evaluate (that is, reduce) to a single value.\n"
   ]
  },
  {
   "cell_type": "markdown",
   "id": "bdb9dca6",
   "metadata": {},
   "source": [
    "Que 5. This assignment statements, like spam = 10. What is the difference between an expression and a statement? \n",
    "\n",
    "Ans :- An expression evaluates to a single value. A statement does not.\n",
    "\n"
   ]
  },
  {
   "cell_type": "markdown",
   "id": "ca319f3e",
   "metadata": {},
   "source": [
    "Que 6. After running the following code, what does the variable bacon contain?\n"
   ]
  },
  {
   "cell_type": "code",
   "execution_count": 5,
   "id": "420d8d7a",
   "metadata": {},
   "outputs": [
    {
     "name": "stdout",
     "output_type": "stream",
     "text": [
      "22\n"
     ]
    }
   ],
   "source": [
    "bacon = 22\n",
    "bacon + 1\n",
    "print(bacon)"
   ]
  },
  {
   "cell_type": "markdown",
   "id": "5ccbccd2",
   "metadata": {},
   "source": [
    "Que 7. What should the values of the following two terms be?\n",
    "'spam' + 'spamspam'\n",
    "'spam' * 3\n"
   ]
  },
  {
   "cell_type": "code",
   "execution_count": 6,
   "id": "c1c942da",
   "metadata": {},
   "outputs": [
    {
     "data": {
      "text/plain": [
       "'spamspamspam'"
      ]
     },
     "execution_count": 6,
     "metadata": {},
     "output_type": "execute_result"
    }
   ],
   "source": [
    "'spam' + 'spamspam'"
   ]
  },
  {
   "cell_type": "code",
   "execution_count": 7,
   "id": "c14cc776",
   "metadata": {},
   "outputs": [
    {
     "data": {
      "text/plain": [
       "'spamspamspam'"
      ]
     },
     "execution_count": 7,
     "metadata": {},
     "output_type": "execute_result"
    }
   ],
   "source": [
    "'spam' * 3"
   ]
  },
  {
   "cell_type": "markdown",
   "id": "e0a420f1",
   "metadata": {},
   "source": [
    "\n",
    "Que 8.  Why  is eggs a valid variable name while 100 is invalid?\n",
    "\n",
    "Ans :- Variable names cannot begin with a numbers.\n"
   ]
  },
  {
   "cell_type": "markdown",
   "id": "624248ac",
   "metadata": {},
   "source": [
    "\n",
    "Que 9. What three functions can be used to get the integer, floating-point number, or string version of a value?\n",
    "\n",
    "Ans :- The int(), float() and string() function evaluate to the integer, floating-point number \n",
    "or string version of value passed  to them.\n"
   ]
  },
  {
   "cell_type": "markdown",
   "id": "b1ff9971",
   "metadata": {},
   "source": [
    "Que10. Why does this expression cause an error? How can you fix it?\n",
    "‘I have eaten’ +  99 + ‘burritos’\n",
    "\n",
    "Ans :- The expression causes an  error because 99 is  an Integer and only strings can be\n",
    "Concatenated to other strings with the +operator.\n",
    "The correct way is ----- ‘I have eaten’ + ‘99’+ ‘burritos’\n"
   ]
  },
  {
   "cell_type": "code",
   "execution_count": 13,
   "id": "4cc33711",
   "metadata": {},
   "outputs": [
    {
     "ename": "TypeError",
     "evalue": "can only concatenate str (not \"int\") to str",
     "output_type": "error",
     "traceback": [
      "\u001b[1;31m---------------------------------------------------------------------------\u001b[0m",
      "\u001b[1;31mTypeError\u001b[0m                                 Traceback (most recent call last)",
      "Cell \u001b[1;32mIn[13], line 1\u001b[0m\n\u001b[1;32m----> 1\u001b[0m \u001b[38;5;124m'\u001b[39m\u001b[38;5;124mI have eaten\u001b[39m\u001b[38;5;124m'\u001b[39m\u001b[38;5;241m+\u001b[39m   \u001b[38;5;241m99\u001b[39m  \u001b[38;5;241m+\u001b[39m \u001b[38;5;124m'\u001b[39m\u001b[38;5;124mburritos\u001b[39m\u001b[38;5;124m'\u001b[39m\n",
      "\u001b[1;31mTypeError\u001b[0m: can only concatenate str (not \"int\") to str"
     ]
    }
   ],
   "source": [
    "'I have eaten'+   99  + 'burritos'"
   ]
  },
  {
   "cell_type": "code",
   "execution_count": 12,
   "id": "09cb2776",
   "metadata": {},
   "outputs": [
    {
     "data": {
      "text/plain": [
       "'I have eaten  99  burritos'"
      ]
     },
     "execution_count": 12,
     "metadata": {},
     "output_type": "execute_result"
    }
   ],
   "source": [
    "'I have eaten'+ '  99  ' + 'burritos'"
   ]
  },
  {
   "cell_type": "code",
   "execution_count": null,
   "id": "c4fb0daf",
   "metadata": {},
   "outputs": [],
   "source": []
  }
 ],
 "metadata": {
  "kernelspec": {
   "display_name": "Python 3 (ipykernel)",
   "language": "python",
   "name": "python3"
  },
  "language_info": {
   "codemirror_mode": {
    "name": "ipython",
    "version": 3
   },
   "file_extension": ".py",
   "mimetype": "text/x-python",
   "name": "python",
   "nbconvert_exporter": "python",
   "pygments_lexer": "ipython3",
   "version": "3.11.4"
  }
 },
 "nbformat": 4,
 "nbformat_minor": 5
}
