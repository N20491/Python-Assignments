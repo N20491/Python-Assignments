{
 "cells": [
  {
   "cell_type": "markdown",
   "id": "ab3c66ed",
   "metadata": {},
   "source": [
    "###### Que 1 - Why are functions advantageous to have in your programs?\n",
    "\n",
    "Ans :- Functions reduce the need for duplicate code. This makes programs shorter, easier to read, and easier to update."
   ]
  },
  {
   "cell_type": "markdown",
   "id": "e8faf88c",
   "metadata": {},
   "source": [
    "###### Que 2 - When does the code in a function run: when it's specified or when it's called?\n",
    "    \n",
    "Ans :- The code in a function executes when the function is called, not when the function is defined."
   ]
  },
  {
   "cell_type": "markdown",
   "id": "4c41165a",
   "metadata": {},
   "source": [
    "###### Que 3 - What statement creates a function?\n",
    "\n",
    "Ans :- The def statement defines (that is, creates) a function."
   ]
  },
  {
   "cell_type": "markdown",
   "id": "c6ab0034",
   "metadata": {},
   "source": [
    "###### Que 4 - What is the difference between a function and a function call?\n",
    "\n",
    "Ans :- • A function consists of the def statement and the code in its def clause.\n",
    "\n",
    "   •   A function call is what moves the program execution into the function, and the function call evaluates to the function's return value.\n"
   ]
  },
  {
   "cell_type": "markdown",
   "id": "45c0bec4",
   "metadata": {},
   "source": [
    "###### Que 5- How many global scopes are there in a Python program? How many local scopes?\n",
    "\n",
    "Ans :- There is one global scope, and a local scope is created whenever a function is called."
   ]
  },
  {
   "cell_type": "markdown",
   "id": "e7892771",
   "metadata": {},
   "source": [
    "###### Que 6 - What happens to variables in a local scope when the function call returns?\n",
    "\n",
    "Ans :- When a function returns, the local scope is destroyed, and all the variables in it are forgotten."
   ]
  },
  {
   "cell_type": "markdown",
   "id": "b346f294",
   "metadata": {},
   "source": [
    "###### Que 7- What is the concept of a return value? Is it possible to have a return value in an expression?\n",
    "\n",
    "Ans :- A return value is the value that a function call evaluates to. Like any value, a return value can be used as part of an expression."
   ]
  },
  {
   "cell_type": "markdown",
   "id": "c7b048ad",
   "metadata": {},
   "source": [
    "###### Que 8- If a function does not have a return statement, what is the return value of a call to that function?\n",
    "\n",
    "Ans :- If there is no return statement for a function, its return value is None."
   ]
  },
  {
   "cell_type": "markdown",
   "id": "c094434f",
   "metadata": {},
   "source": [
    "###### Que 9- How do you make a function variable refer to the global variable?\n",
    "\n",
    "Ans :- A global statement will force a variable in a function to refer to the global variable."
   ]
  },
  {
   "cell_type": "markdown",
   "id": "68587324",
   "metadata": {},
   "source": [
    "###### Que 10- What is the data type of None?\n",
    "\n",
    "Ans :- The data type of None is NoneType."
   ]
  },
  {
   "cell_type": "markdown",
   "id": "1149006c",
   "metadata": {},
   "source": [
    "##### Que 11- What does the sentence import are allyourpetsnamederic do?\n",
    "\n",
    "Ans :- That import statement imports a module named areallyourpetsnamederic. (This isn't a real Python module, by the way.)"
   ]
  },
  {
   "cell_type": "markdown",
   "id": "8525e00a",
   "metadata": {},
   "source": [
    "###### Que 12- If you had a bacon() feature in a spam module, what would you call it after importing spam?\n",
    "\n",
    "Ans :- This function can be called with spam.bacon()."
   ]
  },
  {
   "cell_type": "markdown",
   "id": "4d2c2baf",
   "metadata": {},
   "source": [
    "###### Que 13- What can you do to save a programme from crashing if it encounters an error?\n",
    "\n",
    "Ans :- Place the line of code that might cause an error in a try clause."
   ]
  },
  {
   "cell_type": "markdown",
   "id": "f245ffcb",
   "metadata": {},
   "source": [
    "###### Que 14- What is the purpose of the try clause? What is the purpose of the except clause?\n",
    "\n",
    "Ans :- Try clause - The code that could potentially cause an error goes in the try clause.\n",
    "\n",
    "       Except clause - The code that executes if an error happens goes in the except clause."
   ]
  },
  {
   "cell_type": "code",
   "execution_count": null,
   "id": "2f69032b",
   "metadata": {},
   "outputs": [],
   "source": []
  }
 ],
 "metadata": {
  "kernelspec": {
   "display_name": "Python 3 (ipykernel)",
   "language": "python",
   "name": "python3"
  },
  "language_info": {
   "codemirror_mode": {
    "name": "ipython",
    "version": 3
   },
   "file_extension": ".py",
   "mimetype": "text/x-python",
   "name": "python",
   "nbconvert_exporter": "python",
   "pygments_lexer": "ipython3",
   "version": "3.11.4"
  }
 },
 "nbformat": 4,
 "nbformat_minor": 5
}
