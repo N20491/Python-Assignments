{
 "cells": [
  {
   "cell_type": "markdown",
   "id": "814abe8b",
   "metadata": {},
   "source": [
    "# Assignment No. 7"
   ]
  },
  {
   "cell_type": "markdown",
   "id": "2f431271",
   "metadata": {},
   "source": [
    "#### Que.1-  What is the name of the feature responsible for generating Regex objects?"
   ]
  },
  {
   "cell_type": "markdown",
   "id": "d66d3d16",
   "metadata": {},
   "source": [
    "Ans:-The re.compile() function returns Regex objects."
   ]
  },
  {
   "cell_type": "markdown",
   "id": "8bf6efac",
   "metadata": {},
   "source": [
    "#### Que.2-  Why do raw strings often appear in Regex objects?"
   ]
  },
  {
   "cell_type": "markdown",
   "id": "7a3dd782",
   "metadata": {},
   "source": [
    "Ans:- Raw strings are used so that backslashes do not have to be escaped."
   ]
  },
  {
   "cell_type": "markdown",
   "id": "974b5b9b",
   "metadata": {},
   "source": [
    "#### Que.3- What is the return value of the search() method?"
   ]
  },
  {
   "cell_type": "markdown",
   "id": "5a1e6485",
   "metadata": {},
   "source": [
    "Ans:- The search() method returns Match objects."
   ]
  },
  {
   "cell_type": "markdown",
   "id": "0051de2b",
   "metadata": {},
   "source": [
    "#### Que.4- From a Match item, how do you get the actual strings that match the pattern?"
   ]
  },
  {
   "cell_type": "markdown",
   "id": "c9d3b913",
   "metadata": {},
   "source": [
    "Ans:- The group() method returns strings of the matched text."
   ]
  },
  {
   "cell_type": "markdown",
   "id": "76db71aa",
   "metadata": {},
   "source": [
    "#### Que.5- In the regex which created from the r'(\\d\\d\\d)-(\\d\\d\\d-\\d\\d\\d\\d)', what does group zero cover? Group 2? Group 1?"
   ]
  },
  {
   "cell_type": "markdown",
   "id": "57d560b2",
   "metadata": {},
   "source": [
    "Ans:- Group 0 is the entire match, group 1 covers the first set of parentheses, and group 2 covers the second set of parentheses."
   ]
  },
  {
   "cell_type": "markdown",
   "id": "2ea0ac93",
   "metadata": {},
   "source": [
    "#### Que.6- In standard expression syntax, parentheses and intervals have distinct meanings. How can you tell a regex that you want it to fit real parentheses and periods?"
   ]
  },
  {
   "cell_type": "markdown",
   "id": "c4538364",
   "metadata": {},
   "source": [
    "Ans:- Periods and parentheses can be escaped with a backslash: \\., \\(, and \\)."
   ]
  },
  {
   "cell_type": "markdown",
   "id": "d9c9fa4e",
   "metadata": {},
   "source": [
    "#### Que.7- The findall() method returns a string list or a list of string tuples. What causes it to return one of the two options?"
   ]
  },
  {
   "cell_type": "markdown",
   "id": "18f54d58",
   "metadata": {},
   "source": [
    "Ans:- If the regex has no groups, a list of strings is returned. If the regex has groups, a list of tuples of strings is returned."
   ]
  },
  {
   "cell_type": "markdown",
   "id": "5da6d872",
   "metadata": {},
   "source": [
    "#### Que.8- In standard expressions, what does the | character mean?"
   ]
  },
  {
   "cell_type": "markdown",
   "id": "dfbd3c3b",
   "metadata": {},
   "source": [
    "Ans:- The | character signifies matching \"either, or\" between two groups."
   ]
  },
  {
   "cell_type": "markdown",
   "id": "8e61c5b8",
   "metadata": {},
   "source": [
    "#### Que.9- In regular expressions, what does the character stand for?"
   ]
  },
  {
   "cell_type": "markdown",
   "id": "5ddbfd74",
   "metadata": {},
   "source": [
    "Ans:- The ? character can either mean \"match zero or one of the preceding group\" or be used to signify nongreedy matching."
   ]
  },
  {
   "cell_type": "markdown",
   "id": "1923d49b",
   "metadata": {},
   "source": [
    "#### Que.10- In regular expressions, what is the difference between the + and * characters?"
   ]
  },
  {
   "cell_type": "markdown",
   "id": "dbd93186",
   "metadata": {},
   "source": [
    "Ans:- The + matches one or more. The * matches zero or more."
   ]
  },
  {
   "cell_type": "markdown",
   "id": "8a646248",
   "metadata": {},
   "source": [
    "#### Que.11- What is the difference between {4} and {4,5} in regular expression?"
   ]
  },
  {
   "cell_type": "markdown",
   "id": "c619e0fd",
   "metadata": {},
   "source": [
    "Ans:- The {4} matches exactly three instances of the preceding group. The {4,5} matches between three and five instances."
   ]
  },
  {
   "cell_type": "markdown",
   "id": "80b97f46",
   "metadata": {},
   "source": [
    "#### Que.12- What do you mean by the \\d, \\w, and \\s shorthand character classes signify in regular expressions?"
   ]
  },
  {
   "cell_type": "markdown",
   "id": "0eccaf5d",
   "metadata": {},
   "source": [
    "Ans:- The \\d, \\w, and \\s shorthand character classes match a single digit, word, or space character, respectively."
   ]
  },
  {
   "cell_type": "markdown",
   "id": "4d9b181b",
   "metadata": {},
   "source": [
    "#### Que.13- What do means by \\D, \\W, and \\S shorthand character classes signify in regular expressions?"
   ]
  },
  {
   "cell_type": "markdown",
   "id": "6bc52063",
   "metadata": {},
   "source": [
    "Ans:- The \\D, \\W, and \\S shorthand character classes match a single character that is not a digit, word, or space character, respectively."
   ]
  },
  {
   "cell_type": "markdown",
   "id": "d232608c",
   "metadata": {},
   "source": [
    "#### Que.14- What is the difference between (.*?) and (.*)?"
   ]
  },
  {
   "cell_type": "markdown",
   "id": "ee12e453",
   "metadata": {},
   "source": [
    "Ans:- (.*?) is a group containing a non-greedy match. (.*)? is an optional group containing a greedy match."
   ]
  },
  {
   "cell_type": "markdown",
   "id": "559e8c15",
   "metadata": {},
   "source": [
    "#### Que.15- What is the syntax for matching both numbers and lowercase letters with a character class?"
   ]
  },
  {
   "cell_type": "markdown",
   "id": "4a94bd25",
   "metadata": {},
   "source": [
    "Ans:- Either [0-9a-z] or [a-z0-9]"
   ]
  },
  {
   "cell_type": "markdown",
   "id": "5bec2f0b",
   "metadata": {},
   "source": [
    "#### Que.16- What is the procedure for making a normal expression in regax case insensitive?"
   ]
  },
  {
   "cell_type": "markdown",
   "id": "5a1a7e5b",
   "metadata": {},
   "source": [
    "Ans:- Passing re.I or re.IGNORECASE as the second argument to re.compile() will make the matching case insensitive."
   ]
  },
  {
   "cell_type": "markdown",
   "id": "5c6f6860",
   "metadata": {},
   "source": [
    "#### Que.17- What does the . character normally match? What does it match if re.DOTALL is passed as 2nd argument in re.compile()?"
   ]
  },
  {
   "cell_type": "markdown",
   "id": "2e465550",
   "metadata": {},
   "source": [
    "Ans:- The . character normally matches any character except the newline character. If re.DOTALL is passed as the second argument to re.compile(), then the dot will also match newline characters."
   ]
  },
  {
   "cell_type": "markdown",
   "id": "4f2211ae",
   "metadata": {},
   "source": [
    "#### Que.18- If numReg = re.compile(r'\\d+'), what will numRegex.sub('X', '11 drummers, 10 pipers, five rings, 4 hen') return?"
   ]
  },
  {
   "cell_type": "markdown",
   "id": "4f8e4e33",
   "metadata": {},
   "source": [
    "Ans:- X drummers, X pipers, five rings, X hens'"
   ]
  },
  {
   "cell_type": "markdown",
   "id": "6dff5bc3",
   "metadata": {},
   "source": [
    "#### Que.19- What does passing re.VERBOSE as the 2nd argument to re.compile() allow to do?"
   ]
  },
  {
   "cell_type": "markdown",
   "id": "428d685a",
   "metadata": {},
   "source": [
    "Ans:- The re.VERBOSE argument allows you to add whitespace and comments to the string passed to re.compile()."
   ]
  },
  {
   "cell_type": "markdown",
   "id": "27d4c2f7",
   "metadata": {},
   "source": [
    "#### Que.20- How would you write a regex that match a number with comma for every three digits? It must match the given following:\n",
    "\n",
    "    '42'\n",
    "\n",
    "    '1,234'\n",
    "\n",
    "    '6,368,745'\n"
   ]
  },
  {
   "cell_type": "markdown",
   "id": "cc9dbbb5",
   "metadata": {},
   "source": [
    "Ans:- re.compile(r'^\\d{1,3}(,\\d{3})*$') will create this regex, but other regex strings can produce a similar regular expression."
   ]
  }
 ],
 "metadata": {
  "kernelspec": {
   "display_name": "Python 3 (ipykernel)",
   "language": "python",
   "name": "python3"
  },
  "language_info": {
   "codemirror_mode": {
    "name": "ipython",
    "version": 3
   },
   "file_extension": ".py",
   "mimetype": "text/x-python",
   "name": "python",
   "nbconvert_exporter": "python",
   "pygments_lexer": "ipython3",
   "version": "3.11.4"
  }
 },
 "nbformat": 4,
 "nbformat_minor": 5
}
