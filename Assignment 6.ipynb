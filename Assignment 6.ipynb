{
 "cells": [
  {
   "cell_type": "markdown",
   "id": "c385a435",
   "metadata": {},
   "source": [
    "# Assignment No.6"
   ]
  },
  {
   "cell_type": "markdown",
   "id": "add90762",
   "metadata": {},
   "source": [
    "#### Que.1- What are escape characters, and how do you use them?"
   ]
  },
  {
   "cell_type": "markdown",
   "id": "73f1bb4a",
   "metadata": {},
   "source": [
    "Ans:- Escape characters represent characters in string values that would otherwise be difficult or impossible to type into code."
   ]
  },
  {
   "cell_type": "markdown",
   "id": "fcd953ec",
   "metadata": {},
   "source": [
    "#### Que.2- What do the escape characters n and t stand for?"
   ]
  },
  {
   "cell_type": "markdown",
   "id": "52a3e988",
   "metadata": {},
   "source": [
    "Ans:- \\n is a newline and \\t is a tab."
   ]
  },
  {
   "cell_type": "markdown",
   "id": "0d6ff53e",
   "metadata": {},
   "source": [
    "#### Que.3- What is the way to include backslash characters in a string?"
   ]
  },
  {
   "cell_type": "markdown",
   "id": "c1133112",
   "metadata": {},
   "source": [
    "Ans:- The \\\\ escape character will represent a backslash character."
   ]
  },
  {
   "cell_type": "markdown",
   "id": "e86b3ec3",
   "metadata": {},
   "source": [
    "#### Que.4- The string \"Howl's Moving Castle\" is a correct value. Why isn't the single quote character in the word Howl's not escaped a problem?"
   ]
  },
  {
   "cell_type": "markdown",
   "id": "eac7881e",
   "metadata": {},
   "source": [
    "Ans:- The single quote in Howl's is fine because you've used double quotes to mark the beginning and end of the string."
   ]
  },
  {
   "cell_type": "markdown",
   "id": "ade4cd5b",
   "metadata": {},
   "source": [
    "#### Que.5- How do you write a string of newlines if you don't want to use the n character?"
   ]
  },
  {
   "cell_type": "markdown",
   "id": "8b7763f0",
   "metadata": {},
   "source": [
    "Ans:- Multiline strings allow you to use newlines in strings without the \\n escape character."
   ]
  },
  {
   "cell_type": "markdown",
   "id": "2d9ff276",
   "metadata": {},
   "source": [
    "#### Que.6- What are the values of the given expressions?\n",
    "   'Hello, world!'[1]\n",
    "   \n",
    "   'Hello, world!'[0:5]\n",
    "   \n",
    "   'Hello, world!'[:5]\n",
    "   \n",
    "   'Hello, world!'[3:]\n"
   ]
  },
  {
   "cell_type": "code",
   "execution_count": 3,
   "id": "51e272d2",
   "metadata": {},
   "outputs": [
    {
     "data": {
      "text/plain": [
       "'e'"
      ]
     },
     "execution_count": 3,
     "metadata": {},
     "output_type": "execute_result"
    }
   ],
   "source": [
    "'Hello, world!'[1]"
   ]
  },
  {
   "cell_type": "code",
   "execution_count": 4,
   "id": "87cd8aa2",
   "metadata": {},
   "outputs": [
    {
     "data": {
      "text/plain": [
       "'Hello'"
      ]
     },
     "execution_count": 4,
     "metadata": {},
     "output_type": "execute_result"
    }
   ],
   "source": [
    "'Hello, world!'[0:5]"
   ]
  },
  {
   "cell_type": "code",
   "execution_count": 5,
   "id": "55fce7a5",
   "metadata": {},
   "outputs": [
    {
     "data": {
      "text/plain": [
       "'Hello'"
      ]
     },
     "execution_count": 5,
     "metadata": {},
     "output_type": "execute_result"
    }
   ],
   "source": [
    "'Hello, world!'[:5]"
   ]
  },
  {
   "cell_type": "code",
   "execution_count": 6,
   "id": "1f5efc99",
   "metadata": {},
   "outputs": [
    {
     "data": {
      "text/plain": [
       "'lo, world!'"
      ]
     },
     "execution_count": 6,
     "metadata": {},
     "output_type": "execute_result"
    }
   ],
   "source": [
    "'Hello, world!'[3:]"
   ]
  },
  {
   "cell_type": "markdown",
   "id": "ad80b437",
   "metadata": {},
   "source": [
    "#### Que.7- What are the values of the following expressions?\n",
    "\n",
    "'Hello'.upper()\n",
    "\n",
    "'Hello'.upper().isupper()\n",
    "\n",
    "'Hello'.upper().lower()\n"
   ]
  },
  {
   "cell_type": "code",
   "execution_count": 8,
   "id": "bf47a89e",
   "metadata": {},
   "outputs": [
    {
     "data": {
      "text/plain": [
       "'HELLO'"
      ]
     },
     "execution_count": 8,
     "metadata": {},
     "output_type": "execute_result"
    }
   ],
   "source": [
    "'Hello'.upper()"
   ]
  },
  {
   "cell_type": "code",
   "execution_count": 9,
   "id": "233fcd90",
   "metadata": {},
   "outputs": [
    {
     "data": {
      "text/plain": [
       "True"
      ]
     },
     "execution_count": 9,
     "metadata": {},
     "output_type": "execute_result"
    }
   ],
   "source": [
    "'Hello'.upper().isupper()"
   ]
  },
  {
   "cell_type": "code",
   "execution_count": 10,
   "id": "ade193dc",
   "metadata": {},
   "outputs": [
    {
     "data": {
      "text/plain": [
       "'hello'"
      ]
     },
     "execution_count": 10,
     "metadata": {},
     "output_type": "execute_result"
    }
   ],
   "source": [
    "'Hello'.upper().lower()"
   ]
  },
  {
   "cell_type": "markdown",
   "id": "67c7eb12",
   "metadata": {},
   "source": [
    "#### Que.8- . What are the values of the following expressions?\n",
    "\n",
    "'Remember, remember, the fifth of July.'.split()\n",
    "\n",
    "'-'.join('There can only one.'.split())\n"
   ]
  },
  {
   "cell_type": "code",
   "execution_count": 11,
   "id": "a0391f59",
   "metadata": {},
   "outputs": [
    {
     "data": {
      "text/plain": [
       "['Remember,', 'remember,', 'the', 'fifth', 'of', 'July.']"
      ]
     },
     "execution_count": 11,
     "metadata": {},
     "output_type": "execute_result"
    }
   ],
   "source": [
    "'Remember, remember, the fifth of July.'.split()"
   ]
  },
  {
   "cell_type": "code",
   "execution_count": 12,
   "id": "3f19ff6f",
   "metadata": {},
   "outputs": [
    {
     "data": {
      "text/plain": [
       "'There-can-only-one.'"
      ]
     },
     "execution_count": 12,
     "metadata": {},
     "output_type": "execute_result"
    }
   ],
   "source": [
    "'-'.join('There can only one.'.split())"
   ]
  },
  {
   "cell_type": "markdown",
   "id": "17654ed8",
   "metadata": {},
   "source": [
    "#### Que.9- What are the methods for right-justifying, left-justifying, and centering a string?"
   ]
  },
  {
   "cell_type": "markdown",
   "id": "5beb591c",
   "metadata": {},
   "source": [
    "Ans:- The rjust(), ljust(), and center() string methods, respectively"
   ]
  },
  {
   "cell_type": "markdown",
   "id": "6a4f19f1",
   "metadata": {},
   "source": [
    "#### Que.10- What is the best way to remove whitespace characters from the start or end?"
   ]
  },
  {
   "cell_type": "markdown",
   "id": "f897791e",
   "metadata": {},
   "source": [
    "Ans:- The lstrip() and rstrip() methods remove whitespace from the left and right ends of a string, respectively."
   ]
  },
  {
   "cell_type": "code",
   "execution_count": null,
   "id": "6d696c7a",
   "metadata": {},
   "outputs": [],
   "source": []
  }
 ],
 "metadata": {
  "kernelspec": {
   "display_name": "Python 3 (ipykernel)",
   "language": "python",
   "name": "python3"
  },
  "language_info": {
   "codemirror_mode": {
    "name": "ipython",
    "version": 3
   },
   "file_extension": ".py",
   "mimetype": "text/x-python",
   "name": "python",
   "nbconvert_exporter": "python",
   "pygments_lexer": "ipython3",
   "version": "3.11.4"
  }
 },
 "nbformat": 4,
 "nbformat_minor": 5
}
