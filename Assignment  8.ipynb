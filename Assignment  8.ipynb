{
 "cells": [
  {
   "cell_type": "markdown",
   "id": "792fc539",
   "metadata": {},
   "source": [
    "# Assignment No.8"
   ]
  },
  {
   "cell_type": "markdown",
   "id": "7dc25c17",
   "metadata": {},
   "source": [
    "#### Que.1-Is the Python Standard Library included with PyInputPlus?"
   ]
  },
  {
   "cell_type": "markdown",
   "id": "8181e587",
   "metadata": {},
   "source": [
    "Ans:- PyInputPlus is not a part of the Python Standard Library, we must install it separately using Pip."
   ]
  },
  {
   "cell_type": "markdown",
   "id": "d084339a",
   "metadata": {},
   "source": [
    "#### Que.2- Why is PyInputPlus commonly imported with import pyinputplus as pypi?"
   ]
  },
  {
   "cell_type": "markdown",
   "id": "34451ae5",
   "metadata": {},
   "source": [
    "Ans:- pypi is alias of PyInputPlus.You can import the module with import pyinputplus as pyip so that you can enter a shorter name when calling the module's functions."
   ]
  },
  {
   "cell_type": "markdown",
   "id": "d69bf315",
   "metadata": {},
   "source": [
    "#### Que.3- How do you distinguish between inputInt() and inputFloat()?"
   ]
  },
  {
   "cell_type": "markdown",
   "id": "76a429d4",
   "metadata": {},
   "source": [
    "Ans:-  inputInt() : Accepts an integer value, and returns int value\n",
    "\n",
    "inputFloat() : Accepts integer/floating point value and returns float value"
   ]
  },
  {
   "cell_type": "markdown",
   "id": "1e80729f",
   "metadata": {},
   "source": [
    "#### Que.4- Using PyInputPlus, how do you ensure that the user enters a whole number between 0 and 99?"
   ]
  },
  {
   "cell_type": "markdown",
   "id": "e1c3419d",
   "metadata": {},
   "source": [
    "Ans:- In the inputint function we can set the min = 0 and max =99 to ensure user enters number between 0 and 99"
   ]
  },
  {
   "cell_type": "markdown",
   "id": "51dafae0",
   "metadata": {},
   "source": [
    "#### Que.5- What is transferred to the keyword arguments allowRegexes and blockRegexes?"
   ]
  },
  {
   "cell_type": "markdown",
   "id": "6eed2e6e",
   "metadata": {},
   "source": [
    "Ans:- We can also use regular expressions to specify whether an input is allowed or not. The allowRegexes and blockRegexes\n",
    "keyword arguments take a list of regular expression strings to determine what the PyInputPlus function will accept or reject as valid input."
   ]
  },
  {
   "cell_type": "markdown",
   "id": "62bbc901",
   "metadata": {},
   "source": [
    "#### Que.6- If a blank input is entered three times, what does inputStr(limit=3) do?"
   ]
  },
  {
   "cell_type": "markdown",
   "id": "b338fab0",
   "metadata": {},
   "source": [
    "Ans:- It will throw RetryLimitException exception."
   ]
  },
  {
   "cell_type": "markdown",
   "id": "89a37cce",
   "metadata": {},
   "source": [
    "#### Que.7- If blank input is entered three times, what does inputStr(limit=3, default='hello') do?"
   ]
  },
  {
   "cell_type": "markdown",
   "id": "e06a2d33",
   "metadata": {},
   "source": [
    "Ans:- When you use limit keyword arguments and also pass a default keyword argument, the function returns the default value instead of raising an exception"
   ]
  },
  {
   "cell_type": "code",
   "execution_count": null,
   "id": "647b8348",
   "metadata": {},
   "outputs": [],
   "source": []
  }
 ],
 "metadata": {
  "kernelspec": {
   "display_name": "Python 3 (ipykernel)",
   "language": "python",
   "name": "python3"
  },
  "language_info": {
   "codemirror_mode": {
    "name": "ipython",
    "version": 3
   },
   "file_extension": ".py",
   "mimetype": "text/x-python",
   "name": "python",
   "nbconvert_exporter": "python",
   "pygments_lexer": "ipython3",
   "version": "3.11.4"
  }
 },
 "nbformat": 4,
 "nbformat_minor": 5
}
