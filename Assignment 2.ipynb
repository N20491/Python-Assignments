{
 "cells": [
  {
   "cell_type": "markdown",
   "id": "c2437250",
   "metadata": {},
   "source": [
    "# Assignment No.2"
   ]
  },
  {
   "cell_type": "markdown",
   "id": "c0a311da",
   "metadata": {},
   "source": [
    "Que.1. What are the two values of the Boolean data type? How do you write them?\n",
    "\n",
    "Ans:- True and False, using capital T and F, with the rest of the word in lowercase.\n"
   ]
  },
  {
   "cell_type": "markdown",
   "id": "3f32cb2f",
   "metadata": {},
   "source": [
    "Que.2. What are the three different types of Boolean operators?\n",
    "\n",
    "Ans:- Boolean operators:- 1)and     2) or    3) and not\n"
   ]
  },
  {
   "cell_type": "markdown",
   "id": "60ba2099",
   "metadata": {},
   "source": [
    "Que.3. Make a list of each Boolean operator's truth tables (i.e. every possible combination of Boolean values for the operator  and what it evaluate ).\n",
    " \n"
   ]
  },
  {
   "cell_type": "markdown",
   "id": "42fe0d00",
   "metadata": {},
   "source": [
    "Ans:-    "
   ]
  },
  {
   "cell_type": "code",
   "execution_count": 3,
   "id": "03c5dbc2",
   "metadata": {},
   "outputs": [
    {
     "data": {
      "text/plain": [
       "True"
      ]
     },
     "execution_count": 3,
     "metadata": {},
     "output_type": "execute_result"
    }
   ],
   "source": [
    " True and True "
   ]
  },
  {
   "cell_type": "code",
   "execution_count": 4,
   "id": "f66b66d5",
   "metadata": {},
   "outputs": [
    {
     "data": {
      "text/plain": [
       "False"
      ]
     },
     "execution_count": 4,
     "metadata": {},
     "output_type": "execute_result"
    }
   ],
   "source": [
    "True and False "
   ]
  },
  {
   "cell_type": "code",
   "execution_count": 5,
   "id": "c3b5dc84",
   "metadata": {},
   "outputs": [
    {
     "data": {
      "text/plain": [
       "False"
      ]
     },
     "execution_count": 5,
     "metadata": {},
     "output_type": "execute_result"
    }
   ],
   "source": [
    "False and True "
   ]
  },
  {
   "cell_type": "code",
   "execution_count": 6,
   "id": "d69b1748",
   "metadata": {},
   "outputs": [
    {
     "data": {
      "text/plain": [
       "False"
      ]
     },
     "execution_count": 6,
     "metadata": {},
     "output_type": "execute_result"
    }
   ],
   "source": [
    "False and False "
   ]
  },
  {
   "cell_type": "code",
   "execution_count": 7,
   "id": "9f4279cc",
   "metadata": {},
   "outputs": [
    {
     "data": {
      "text/plain": [
       "True"
      ]
     },
     "execution_count": 7,
     "metadata": {},
     "output_type": "execute_result"
    }
   ],
   "source": [
    "True or True "
   ]
  },
  {
   "cell_type": "code",
   "execution_count": 8,
   "id": "f5d66901",
   "metadata": {},
   "outputs": [
    {
     "data": {
      "text/plain": [
       "True"
      ]
     },
     "execution_count": 8,
     "metadata": {},
     "output_type": "execute_result"
    }
   ],
   "source": [
    "True or False "
   ]
  },
  {
   "cell_type": "code",
   "execution_count": 9,
   "id": "498f69a3",
   "metadata": {},
   "outputs": [
    {
     "data": {
      "text/plain": [
       "True"
      ]
     },
     "execution_count": 9,
     "metadata": {},
     "output_type": "execute_result"
    }
   ],
   "source": [
    "False or True "
   ]
  },
  {
   "cell_type": "code",
   "execution_count": 10,
   "id": "b6ae9938",
   "metadata": {},
   "outputs": [
    {
     "data": {
      "text/plain": [
       "False"
      ]
     },
     "execution_count": 10,
     "metadata": {},
     "output_type": "execute_result"
    }
   ],
   "source": [
    "False or False "
   ]
  },
  {
   "cell_type": "code",
   "execution_count": 11,
   "id": "2f9e260b",
   "metadata": {},
   "outputs": [
    {
     "data": {
      "text/plain": [
       "False"
      ]
     },
     "execution_count": 11,
     "metadata": {},
     "output_type": "execute_result"
    }
   ],
   "source": [
    "not True "
   ]
  },
  {
   "cell_type": "code",
   "execution_count": 12,
   "id": "30f13a80",
   "metadata": {},
   "outputs": [
    {
     "data": {
      "text/plain": [
       "True"
      ]
     },
     "execution_count": 12,
     "metadata": {},
     "output_type": "execute_result"
    }
   ],
   "source": [
    "not False "
   ]
  },
  {
   "cell_type": "markdown",
   "id": "a3445a64",
   "metadata": {},
   "source": [
    "Que.4 What are the values of the following expressions?\n",
    " \t1)(5 > 4) and  (3 == 5)\n",
    "    2)not (5 > 4)\n",
    "    3)(5 > 4) or (3 == 5)\n",
    "    4)not ((5 > 4) or (3 == 5))\n",
    "    5)(True and True) and (True == False)\n",
    "    6)(not False) or (not True)\n"
   ]
  },
  {
   "cell_type": "code",
   "execution_count": 13,
   "id": "55f2ef03",
   "metadata": {},
   "outputs": [
    {
     "data": {
      "text/plain": [
       "False"
      ]
     },
     "execution_count": 13,
     "metadata": {},
     "output_type": "execute_result"
    }
   ],
   "source": [
    "(5 > 4) and (3 == 5)"
   ]
  },
  {
   "cell_type": "code",
   "execution_count": 14,
   "id": "4a650f10",
   "metadata": {},
   "outputs": [
    {
     "data": {
      "text/plain": [
       "False"
      ]
     },
     "execution_count": 14,
     "metadata": {},
     "output_type": "execute_result"
    }
   ],
   "source": [
    "not (5 > 4)"
   ]
  },
  {
   "cell_type": "code",
   "execution_count": 16,
   "id": "18ccfba5",
   "metadata": {},
   "outputs": [
    {
     "data": {
      "text/plain": [
       "True"
      ]
     },
     "execution_count": 16,
     "metadata": {},
     "output_type": "execute_result"
    }
   ],
   "source": [
    "(5 > 4) or (3 == 5) "
   ]
  },
  {
   "cell_type": "code",
   "execution_count": 17,
   "id": "7dd131c9",
   "metadata": {},
   "outputs": [
    {
     "data": {
      "text/plain": [
       "False"
      ]
     },
     "execution_count": 17,
     "metadata": {},
     "output_type": "execute_result"
    }
   ],
   "source": [
    "not ((5 > 4) or (3 == 5))"
   ]
  },
  {
   "cell_type": "code",
   "execution_count": 27,
   "id": "1938e30a",
   "metadata": {},
   "outputs": [
    {
     "data": {
      "text/plain": [
       "False"
      ]
     },
     "execution_count": 27,
     "metadata": {},
     "output_type": "execute_result"
    }
   ],
   "source": [
    "(True and True) and (True == False)"
   ]
  },
  {
   "cell_type": "code",
   "execution_count": 19,
   "id": "74f93e06",
   "metadata": {},
   "outputs": [
    {
     "data": {
      "text/plain": [
       "True"
      ]
     },
     "execution_count": 19,
     "metadata": {},
     "output_type": "execute_result"
    }
   ],
   "source": [
    "(not False) or (not True)"
   ]
  },
  {
   "cell_type": "markdown",
   "id": "34cd72cd",
   "metadata": {},
   "source": [
    "Que.5. What are the six comparison operators?\n",
    "\n",
    "Ans:- 1) ==  \t2) !=  \t3)<  \t4) > \t5) <=   \t6) >=.\n"
   ]
  },
  {
   "cell_type": "markdown",
   "id": "8d38c7ec",
   "metadata": {},
   "source": [
    "Que.6. How do you tell the difference between the equal to and assignment operators? Describe a condition and when you would use one.\n",
    "\n",
    "Ans:- == is the equal to operator that compares two values and evaluates to a Boolean, while = is the assignment operator that stores a value in a variable. A condition is an expression used in a flow control statement that evaluates to a Boolean value."
   ]
  },
  {
   "cell_type": "markdown",
   "id": "99745589",
   "metadata": {},
   "source": [
    "Que.7. Identify the three blocks in this code:"
   ]
  },
  {
   "cell_type": "code",
   "execution_count": 24,
   "id": "05d3a039",
   "metadata": {},
   "outputs": [
    {
     "name": "stdout",
     "output_type": "stream",
     "text": [
      "ham\n",
      "spam\n",
      "spam\n"
     ]
    }
   ],
   "source": [
    "spam = 0\n",
    "if spam == 10:\n",
    "    print('eggs')  # Block 1\n",
    "if spam > 5:\n",
    "    print('bacon')  # Block 2\n",
    "else:\n",
    "    print('ham')    # Block 3\n",
    "    print('spam')\n",
    "    print('spam')\n"
   ]
  },
  {
   "cell_type": "markdown",
   "id": "992b6427",
   "metadata": {},
   "source": [
    "Que. 8. Write code that prints Hello if 1 is stored in spam, prints Howdy if 2 is stored in spam, and prints Greetings! if anything else is stored in spam."
   ]
  },
  {
   "cell_type": "code",
   "execution_count": 26,
   "id": "d7d240c1",
   "metadata": {},
   "outputs": [
    {
     "name": "stdout",
     "output_type": "stream",
     "text": [
      "Greetings!\n"
     ]
    }
   ],
   "source": [
    "if spam == 1:\n",
    "       print(\"Hello\")\n",
    "elif spam == 2:\n",
    "       print(\"Howdy\")\n",
    "else:\n",
    "     print(\"Greetings!\")\n"
   ]
  },
  {
   "cell_type": "markdown",
   "id": "d7fef369",
   "metadata": {},
   "source": [
    "Que.9.If your programme is stuck in an endless loop, what keys you’ll press?\n",
    "\n",
    "Ans:- Press CTRL-C to stop a program stuck in an infinite loop.\n",
    "\n"
   ]
  },
  {
   "cell_type": "markdown",
   "id": "40ee7718",
   "metadata": {},
   "source": [
    "Que.10. How can you tell the difference between break and continue?\n",
    "\n",
    "Ans:- The break statement will move the execution outside and just after a loop. The \n",
    "           continue statement will move the execution to the start of the loop.\n"
   ]
  },
  {
   "cell_type": "markdown",
   "id": "489e5d25",
   "metadata": {},
   "source": [
    "Que.11. In a for loop, what is the difference between range (10), range(0, 10), and \n",
    "  range(0, 10, 1)?\n",
    "\n",
    "Ans:- They all do the same thing. The range(10) call ranges from 0 up to (but not including) 10, range(0, 10) explicitly tells the loop to start at 0, and range(0, 10, 1) explicitly tells the loop to increase the variable by 1 on each iteration.\n"
   ]
  },
  {
   "cell_type": "markdown",
   "id": "1e9d4ece",
   "metadata": {},
   "source": [
    "Que.12. Write a short program that prints the numbers 1 to 10 using a for loop. Then write an equivalent program that prints the numbers 1 to 10 using a while loop."
   ]
  },
  {
   "cell_type": "code",
   "execution_count": null,
   "id": "a3fd17a2",
   "metadata": {},
   "outputs": [],
   "source": [
    "for i in range(1,11):\n",
    "    Print(i)\n"
   ]
  }
 ],
 "metadata": {
  "kernelspec": {
   "display_name": "Python 3 (ipykernel)",
   "language": "python",
   "name": "python3"
  },
  "language_info": {
   "codemirror_mode": {
    "name": "ipython",
    "version": 3
   },
   "file_extension": ".py",
   "mimetype": "text/x-python",
   "name": "python",
   "nbconvert_exporter": "python",
   "pygments_lexer": "ipython3",
   "version": "3.11.4"
  }
 },
 "nbformat": 4,
 "nbformat_minor": 5
}
