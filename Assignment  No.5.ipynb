{
 "cells": [
  {
   "cell_type": "markdown",
   "id": "c1415b72",
   "metadata": {},
   "source": [
    "# Assignment No.5"
   ]
  },
  {
   "cell_type": "markdown",
   "id": "1ef27203",
   "metadata": {},
   "source": [
    "#### Que.1 - What does an empty dictionary's code look like?"
   ]
  },
  {
   "cell_type": "markdown",
   "id": "15ecf444",
   "metadata": {},
   "source": [
    "Ans:- Two curly brackets- {}"
   ]
  },
  {
   "cell_type": "markdown",
   "id": "12f2df41",
   "metadata": {},
   "source": [
    "#### Que.2 - What is the value of a dictionary value with the key 'foo' and the value 42?"
   ]
  },
  {
   "cell_type": "markdown",
   "id": "c33f6f0d",
   "metadata": {},
   "source": [
    "Ans:- {\"foo\": 42}"
   ]
  },
  {
   "cell_type": "markdown",
   "id": "6f2915cd",
   "metadata": {},
   "source": [
    "#### Que.3 - What is the most significant distinction between a dictionary and a list?"
   ]
  },
  {
   "cell_type": "markdown",
   "id": "75f55f8e",
   "metadata": {},
   "source": [
    "Ans:- The items stored in a dictionary are unordered, while the items in a list are ordered."
   ]
  },
  {
   "cell_type": "markdown",
   "id": "4e99d192",
   "metadata": {},
   "source": [
    "#### Que.4 - What happens if you try to access spam['foo'] if spam is {'bar': 100}?"
   ]
  },
  {
   "cell_type": "markdown",
   "id": "43be3d2b",
   "metadata": {},
   "source": [
    "Ans:- You get a KeyError error."
   ]
  },
  {
   "cell_type": "markdown",
   "id": "cc529d82",
   "metadata": {},
   "source": [
    "#### Que.5- If a dictionary is stored in spam, what is the difference between the expressions 'cat' in spam and 'cat' in spam.keys()?"
   ]
  },
  {
   "cell_type": "markdown",
   "id": "88e2bbc0",
   "metadata": {},
   "source": [
    "Ans:- There is no difference. The in operator checks whether a value exists as a key in the dictionary."
   ]
  },
  {
   "cell_type": "markdown",
   "id": "6cdb0f77",
   "metadata": {},
   "source": [
    "#### Que.6-If a dictionary is stored in spam, what is the difference between the expressions 'cat' in spam and 'cat' in spam.values()?"
   ]
  },
  {
   "cell_type": "markdown",
   "id": "3dd9923c",
   "metadata": {},
   "source": [
    "Ans:- cat' in spam checks whether there is a 'cat' key in the dictionary, while 'cat' in spam.values() checks whether there is a value 'cat' for one of the keys in spam."
   ]
  },
  {
   "cell_type": "markdown",
   "id": "d974147b",
   "metadata": {},
   "source": [
    "#### Que.7- What is a shortcut for the following code?\n",
    "if 'color' not in spam:\n",
    "\n",
    "spam['color'] = 'black'\n"
   ]
  },
  {
   "cell_type": "markdown",
   "id": "f8df1adf",
   "metadata": {},
   "source": [
    "Ans:- spam.setdefault('color', 'black')"
   ]
  },
  {
   "cell_type": "markdown",
   "id": "8ec8aa71",
   "metadata": {},
   "source": [
    "#### Que.8 - How do you \"pretty print\" dictionary values using which module and function?"
   ]
  },
  {
   "cell_type": "markdown",
   "id": "e56cccd8",
   "metadata": {},
   "source": [
    "Ans:- pprint.pprint()"
   ]
  },
  {
   "cell_type": "code",
   "execution_count": null,
   "id": "365fd9ce",
   "metadata": {},
   "outputs": [],
   "source": []
  },
  {
   "cell_type": "code",
   "execution_count": null,
   "id": "acaa8478",
   "metadata": {},
   "outputs": [],
   "source": []
  }
 ],
 "metadata": {
  "kernelspec": {
   "display_name": "Python 3 (ipykernel)",
   "language": "python",
   "name": "python3"
  },
  "language_info": {
   "codemirror_mode": {
    "name": "ipython",
    "version": 3
   },
   "file_extension": ".py",
   "mimetype": "text/x-python",
   "name": "python",
   "nbconvert_exporter": "python",
   "pygments_lexer": "ipython3",
   "version": "3.11.4"
  }
 },
 "nbformat": 4,
 "nbformat_minor": 5
}
