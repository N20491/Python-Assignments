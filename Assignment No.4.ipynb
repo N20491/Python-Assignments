{
 "cells": [
  {
   "cell_type": "markdown",
   "id": "82ac73e7",
   "metadata": {},
   "source": [
    "# Assignment No.4"
   ]
  },
  {
   "cell_type": "markdown",
   "id": "b9e5c0a7",
   "metadata": {},
   "source": [
    "###### Que.1- What exactly is []?\n",
    "Ans :- The empty list value, which is a list value that contains no items. This is similar to how '' is the empty string value."
   ]
  },
  {
   "cell_type": "markdown",
   "id": "ba5ae571",
   "metadata": {},
   "source": [
    "###### Que.2 - In a list of values stored in a variable called spam, how would you assign the value 'hello' as the third value? (Assume [2, 4, 6, 8, 10] are in spam.)\n",
    "\n",
    "Ans :- spam[2] = 'hello' (Notice that the third value in a list is at index 2 because the first index is 0.)"
   ]
  },
  {
   "cell_type": "code",
   "execution_count": 2,
   "id": "df106516",
   "metadata": {},
   "outputs": [
    {
     "data": {
      "text/plain": [
       "[2, 4, 'hello', 8, 10]"
      ]
     },
     "execution_count": 2,
     "metadata": {},
     "output_type": "execute_result"
    }
   ],
   "source": [
    "spam = [2,4,6,8,10]\n",
    "spam[2]= \"hello\"\n",
    "spam"
   ]
  },
  {
   "cell_type": "markdown",
   "id": "cb9f4ae6",
   "metadata": {},
   "source": [
    "#### Let's pretend the spam includes the list ['a', 'b', 'c', 'd'] for the next three queries."
   ]
  },
  {
   "cell_type": "markdown",
   "id": "d266f135",
   "metadata": {},
   "source": [
    "#### Que.3 - What is the value of spam[int(int('3' * 2) / 11)]?"
   ]
  },
  {
   "cell_type": "code",
   "execution_count": 6,
   "id": "ff42ad96",
   "metadata": {},
   "outputs": [
    {
     "data": {
      "text/plain": [
       "'d'"
      ]
     },
     "execution_count": 6,
     "metadata": {},
     "output_type": "execute_result"
    }
   ],
   "source": [
    "spam = ['a','b','c','d']\n",
    "spam[int(int('3'*2)/11)]"
   ]
  },
  {
   "cell_type": "markdown",
   "id": "97d137a1",
   "metadata": {},
   "source": [
    "#### Que.4-  What is the value of spam[-1]?"
   ]
  },
  {
   "cell_type": "code",
   "execution_count": 7,
   "id": "e09dca0f",
   "metadata": {},
   "outputs": [
    {
     "data": {
      "text/plain": [
       "'d'"
      ]
     },
     "execution_count": 7,
     "metadata": {},
     "output_type": "execute_result"
    }
   ],
   "source": [
    "spam = ['a','b','c','d']\n",
    "spam[-1]"
   ]
  },
  {
   "cell_type": "markdown",
   "id": "b2280aa9",
   "metadata": {},
   "source": [
    "#### Que.5- What is the value of spam[:2]?"
   ]
  },
  {
   "cell_type": "code",
   "execution_count": 8,
   "id": "ac28ed37",
   "metadata": {},
   "outputs": [
    {
     "data": {
      "text/plain": [
       "['a', 'b']"
      ]
     },
     "execution_count": 8,
     "metadata": {},
     "output_type": "execute_result"
    }
   ],
   "source": [
    "spam = ['a','b','c','d']\n",
    "spam[ :2]"
   ]
  },
  {
   "cell_type": "markdown",
   "id": "096eade9",
   "metadata": {},
   "source": [
    "#### Let's pretend bacon has the list [3.14, 'cat,' 11, 'cat,' True] for the next three questions."
   ]
  },
  {
   "cell_type": "markdown",
   "id": "2c405f32",
   "metadata": {},
   "source": [
    "#### Que.6 - What is the value of bacon.index('cat')?"
   ]
  },
  {
   "cell_type": "code",
   "execution_count": 11,
   "id": "bd22ad0c",
   "metadata": {},
   "outputs": [
    {
     "data": {
      "text/plain": [
       "1"
      ]
     },
     "execution_count": 11,
     "metadata": {},
     "output_type": "execute_result"
    }
   ],
   "source": [
    "bacon = [3.14, 'cat' ,11, 'cat' ,True]\n",
    "bacon.index('cat')"
   ]
  },
  {
   "cell_type": "markdown",
   "id": "01034a79",
   "metadata": {},
   "source": [
    "#### Que.7- How does bacon.append(99) change the look of the list value in bacon?"
   ]
  },
  {
   "cell_type": "code",
   "execution_count": 13,
   "id": "d3db29fb",
   "metadata": {},
   "outputs": [
    {
     "data": {
      "text/plain": [
       "[3.14, 'cat', 11, 'cat', True, 99]"
      ]
     },
     "execution_count": 13,
     "metadata": {},
     "output_type": "execute_result"
    }
   ],
   "source": [
    "bacon = [3.14, 'cat' ,11, 'cat' ,True]\n",
    "bacon.append(99)\n",
    "bacon"
   ]
  },
  {
   "cell_type": "markdown",
   "id": "f75ebad2",
   "metadata": {},
   "source": [
    "#### Que.8 - How does bacon.remove('cat') change the look of the list in bacon?"
   ]
  },
  {
   "cell_type": "code",
   "execution_count": 14,
   "id": "19ed28cf",
   "metadata": {},
   "outputs": [
    {
     "data": {
      "text/plain": [
       "[3.14, 11, 'cat', True]"
      ]
     },
     "execution_count": 14,
     "metadata": {},
     "output_type": "execute_result"
    }
   ],
   "source": [
    "bacon = [3.14, 'cat' ,11, 'cat' ,True]\n",
    "bacon.remove('cat')\n",
    "bacon"
   ]
  },
  {
   "cell_type": "markdown",
   "id": "b77a4188",
   "metadata": {},
   "source": [
    "#### Que.9 - What are the list concatenation and list replication operators?"
   ]
  },
  {
   "cell_type": "markdown",
   "id": "6829e29f",
   "metadata": {},
   "source": [
    "Ans:- The operator for list concatenation is +, while the operator for replication is *. (This is the same as for strings.)"
   ]
  },
  {
   "cell_type": "markdown",
   "id": "e03d753f",
   "metadata": {},
   "source": [
    "#### Que.10 - What is difference between the list methods append() and insert()?"
   ]
  },
  {
   "cell_type": "markdown",
   "id": "8381a91d",
   "metadata": {},
   "source": [
    "Ans:- append() - append() will add values only to the end of a list.\n",
    "      \n",
    "   insert() - insert() can add them anywhere in the list."
   ]
  },
  {
   "cell_type": "markdown",
   "id": "9400854d",
   "metadata": {},
   "source": [
    "#### Que.11 - What are the two methods for removing items from a list?"
   ]
  },
  {
   "cell_type": "markdown",
   "id": "97b2fff9",
   "metadata": {},
   "source": [
    "Ans:- The del statement and the remove() list method are two ways to remove values from a list."
   ]
  },
  {
   "cell_type": "markdown",
   "id": "e33dec4a",
   "metadata": {},
   "source": [
    "#### Que.12 - Describe how list values and string values are identical."
   ]
  },
  {
   "cell_type": "markdown",
   "id": "533918bf",
   "metadata": {},
   "source": [
    "Ans:- Both lists and strings can be passed to len(), have indexes and slices, be used in for loops, be concatenated or replicated, and be used with the in and not in operators."
   ]
  },
  {
   "cell_type": "markdown",
   "id": "6c015d18",
   "metadata": {},
   "source": [
    "#### Que.13 - What's the difference between tuples and lists?"
   ]
  },
  {
   "cell_type": "markdown",
   "id": "50291198",
   "metadata": {},
   "source": [
    "Ans:- List - Lists are mutable;they can have values added, removed, or changed.Lists are written using the square brackets [ ].\n",
    "    \n",
    "   Tuples - Tuples are immutable; they cannot be changed at all.Tuples are written using parentheses ( )."
   ]
  },
  {
   "cell_type": "markdown",
   "id": "f872bb10",
   "metadata": {},
   "source": [
    "#### Que.14 - How do you type a tuple value that only contains the integer 42?"
   ]
  },
  {
   "cell_type": "markdown",
   "id": "f5d942ea",
   "metadata": {},
   "source": [
    "Ans:- (42,) (The trailing comma is mandatory.)"
   ]
  },
  {
   "cell_type": "markdown",
   "id": "f1952f3d",
   "metadata": {},
   "source": [
    "#### Que.15 -  How do you get a list value's tuple form? How do you get a tuple value's list form?"
   ]
  },
  {
   "cell_type": "markdown",
   "id": "29f4f306",
   "metadata": {},
   "source": [
    "Ans:- The tuple() and list() functions, respectively"
   ]
  },
  {
   "cell_type": "markdown",
   "id": "a729aafa",
   "metadata": {},
   "source": [
    "#### Que.16 - . Variables that \"contain\" list values are not necessarily lists themselves. Instead, what do they contain?"
   ]
  },
  {
   "cell_type": "markdown",
   "id": "b49145ec",
   "metadata": {},
   "source": [
    "Ans:- They contain references to list values."
   ]
  },
  {
   "cell_type": "markdown",
   "id": "f53c229c",
   "metadata": {},
   "source": [
    "#### Que.17- How do you distinguish between copy.copy() and copy.deepcopy()?"
   ]
  },
  {
   "cell_type": "markdown",
   "id": "e25dda9f",
   "metadata": {},
   "source": [
    "Ans:- copy.copy()- copy.copy() function will do a shallow copy of a list.\n",
    "    \n",
    "   copy.deepcopy()- copy.deepcopy() function will do a deep copy of a list. That is, only copy.deepcopy() will duplicate any lists inside the list."
   ]
  },
  {
   "cell_type": "code",
   "execution_count": null,
   "id": "60c7dfbd",
   "metadata": {},
   "outputs": [],
   "source": []
  }
 ],
 "metadata": {
  "kernelspec": {
   "display_name": "Python 3 (ipykernel)",
   "language": "python",
   "name": "python3"
  },
  "language_info": {
   "codemirror_mode": {
    "name": "ipython",
    "version": 3
   },
   "file_extension": ".py",
   "mimetype": "text/x-python",
   "name": "python",
   "nbconvert_exporter": "python",
   "pygments_lexer": "ipython3",
   "version": "3.11.4"
  }
 },
 "nbformat": 4,
 "nbformat_minor": 5
}
