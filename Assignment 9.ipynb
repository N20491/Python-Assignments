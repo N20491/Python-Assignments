{
 "cells": [
  {
   "cell_type": "markdown",
   "id": "d4c2eb97",
   "metadata": {},
   "source": [
    "# Assignment No.9"
   ]
  },
  {
   "cell_type": "markdown",
   "id": "d58fbc48",
   "metadata": {},
   "source": [
    "#### Que.1- To what does a relative path refer?"
   ]
  },
  {
   "cell_type": "markdown",
   "id": "cb4c208e",
   "metadata": {},
   "source": [
    "Ans:- Relative paths are relative to the current working directory."
   ]
  },
  {
   "cell_type": "markdown",
   "id": "cd0ac13c",
   "metadata": {},
   "source": [
    "#### Que.2- What does an absolute path start with your operating system?"
   ]
  },
  {
   "cell_type": "markdown",
   "id": "baea32d1",
   "metadata": {},
   "source": [
    "Ans:- Absolute paths start with the root folder, such as / or C:\\."
   ]
  },
  {
   "cell_type": "markdown",
   "id": "090ee1b7",
   "metadata": {},
   "source": [
    "#### Que.3- What do the functions os.getcwd() and os.chdir() do?"
   ]
  },
  {
   "cell_type": "markdown",
   "id": "474cda05",
   "metadata": {},
   "source": [
    "Ans:- The os.getcwd() function returns the current working directory. The os.chdir() function changes the current working directory.\n"
   ]
  },
  {
   "cell_type": "markdown",
   "id": "f6cbfe26",
   "metadata": {},
   "source": [
    "#### Que.4- What are the . and .. folders?"
   ]
  },
  {
   "cell_type": "markdown",
   "id": "57f83461",
   "metadata": {},
   "source": [
    "Ans:- The . folder is the current folder, and .. is the parent folder."
   ]
  },
  {
   "cell_type": "markdown",
   "id": "e8f3e94b",
   "metadata": {},
   "source": [
    "#### Que.5- In C:\\bacon\\eggs\\spam.txt, which part is the dir name, and which part is the base name?"
   ]
  },
  {
   "cell_type": "markdown",
   "id": "a3521601",
   "metadata": {},
   "source": [
    "Ans:- C:\\bacon\\eggs is the dir name, while spam.txt is the base name."
   ]
  },
  {
   "cell_type": "markdown",
   "id": "a6c309d5",
   "metadata": {},
   "source": [
    "#### Que.6- What are the three “mode” arguments that can be passed to the open() function?"
   ]
  },
  {
   "cell_type": "markdown",
   "id": "ea6a5c58",
   "metadata": {},
   "source": [
    "Ans:- The string 'r' for read mode, 'w' for write mode, and 'a' for append mode"
   ]
  },
  {
   "cell_type": "markdown",
   "id": "dd3bc824",
   "metadata": {},
   "source": [
    "#### Que.7- What happens if an existing file is opened in write mode?"
   ]
  },
  {
   "cell_type": "markdown",
   "id": "010ff32f",
   "metadata": {},
   "source": [
    "Ans:- An existing file opened in write mode is erased and completely overwritten."
   ]
  },
  {
   "cell_type": "markdown",
   "id": "d2207f29",
   "metadata": {},
   "source": [
    "#### Que.8- How do you tell the difference between read() and readlines()?"
   ]
  },
  {
   "cell_type": "markdown",
   "id": "69715451",
   "metadata": {},
   "source": [
    "Ans:- read():- The read() method returns the file's entire contents as a single string value.\n",
    "\n",
    "readline():- The readlines() method returns a list of strings, where each string is a line from the file's contents.\n",
    "What data structure does a shelf value resemble?\n",
    "\n"
   ]
  },
  {
   "cell_type": "markdown",
   "id": "496dd07a",
   "metadata": {},
   "source": [
    "#### Que.9- What data structure does a shelf value resemble?"
   ]
  },
  {
   "cell_type": "markdown",
   "id": "df930841",
   "metadata": {},
   "source": [
    "Ans:- A shelf value resembles a dictionary value; it has keys and values, along with keys() and values() methods that work similarly to the dictionary methods of the same names."
   ]
  }
 ],
 "metadata": {
  "kernelspec": {
   "display_name": "Python 3 (ipykernel)",
   "language": "python",
   "name": "python3"
  },
  "language_info": {
   "codemirror_mode": {
    "name": "ipython",
    "version": 3
   },
   "file_extension": ".py",
   "mimetype": "text/x-python",
   "name": "python",
   "nbconvert_exporter": "python",
   "pygments_lexer": "ipython3",
   "version": "3.11.4"
  }
 },
 "nbformat": 4,
 "nbformat_minor": 5
}
